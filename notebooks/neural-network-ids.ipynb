{
 "cells": [
  {
   "cell_type": "code",
   "execution_count": 1,
   "id": "fe38404a",
   "metadata": {
    "_cell_guid": "b1076dfc-b9ad-4769-8c92-a6c4dae69d19",
    "_uuid": "8f2839f25d086af736a60e9eeb907d3b93b6e0e5",
    "execution": {
     "iopub.execute_input": "2025-04-15T15:54:30.847579Z",
     "iopub.status.busy": "2025-04-15T15:54:30.847202Z",
     "iopub.status.idle": "2025-04-15T15:54:46.362167Z",
     "shell.execute_reply": "2025-04-15T15:54:46.360888Z"
    },
    "papermill": {
     "duration": 15.522009,
     "end_time": "2025-04-15T15:54:46.364199",
     "exception": false,
     "start_time": "2025-04-15T15:54:30.842190",
     "status": "completed"
    },
    "tags": []
   },
   "outputs": [],
   "source": [
    "import pandas as pd\n",
    "import numpy as np\n",
    "from tensorflow import keras\n",
    "import optuna\n",
    "import tensorflow as tf\n",
    "from tensorflow.keras.models import Sequential\n",
    "from tensorflow.keras.layers import Dense, Dropout\n",
    "from sklearn.model_selection import train_test_split\n",
    "from sklearn.preprocessing import StandardScaler, LabelEncoder\n",
    "from sklearn.pipeline import Pipeline\n",
    "\n",
    "# Define model function for hyperparameter tuning\n",
    "def create_model(trial):\n",
    "    model = Sequential()\n",
    "    model.add(Dense(trial.suggest_int(\"units1\", 64, 256), activation='relu', input_shape=(X_train.shape[1],)))\n",
    "    model.add(Dropout(trial.suggest_float(\"dropout1\", 0.1, 0.5)))\n",
    "    model.add(Dense(trial.suggest_int(\"units2\", 32, 128), activation='relu'))\n",
    "    model.add(Dropout(trial.suggest_float(\"dropout2\", 0.1, 0.5)))\n",
    "    model.add(Dense(len(np.unique(y)), activation='softmax'))\n",
    "    model.compile(optimizer='adam', loss='sparse_categorical_crossentropy', metrics=['accuracy'])\n",
    "    return model"
   ]
  },
  {
   "cell_type": "code",
   "execution_count": 2,
   "id": "7d66e1dc",
   "metadata": {
    "execution": {
     "iopub.execute_input": "2025-04-15T15:54:46.372548Z",
     "iopub.status.busy": "2025-04-15T15:54:46.371978Z",
     "iopub.status.idle": "2025-04-15T15:54:51.592167Z",
     "shell.execute_reply": "2025-04-15T15:54:51.591302Z"
    },
    "papermill": {
     "duration": 5.225922,
     "end_time": "2025-04-15T15:54:51.593874",
     "exception": false,
     "start_time": "2025-04-15T15:54:46.367952",
     "status": "completed"
    },
    "tags": []
   },
   "outputs": [],
   "source": [
    "# Load datasets\n",
    "df_boa = pd.read_csv(\"/kaggle/input/kube-ids0/boa_dataset/processed/boa_dataset_ml_ready_frontend_microservice.csv\")\n",
    "df_dvwa = pd.read_csv(\"/kaggle/input/kube-ids0/dvwa_dataset/processed/dvwa_dataset_ml_ready.csv\")"
   ]
  },
  {
   "cell_type": "code",
   "execution_count": 3,
   "id": "5e841694",
   "metadata": {
    "execution": {
     "iopub.execute_input": "2025-04-15T15:54:51.601926Z",
     "iopub.status.busy": "2025-04-15T15:54:51.601583Z",
     "iopub.status.idle": "2025-04-15T15:54:51.647248Z",
     "shell.execute_reply": "2025-04-15T15:54:51.646138Z"
    },
    "papermill": {
     "duration": 0.051636,
     "end_time": "2025-04-15T15:54:51.649091",
     "exception": false,
     "start_time": "2025-04-15T15:54:51.597455",
     "status": "completed"
    },
    "tags": []
   },
   "outputs": [],
   "source": [
    "# Combine datasets\n",
    "df = pd.concat([df_boa, df_dvwa], ignore_index=True)"
   ]
  },
  {
   "cell_type": "code",
   "execution_count": 4,
   "id": "40679b80",
   "metadata": {
    "execution": {
     "iopub.execute_input": "2025-04-15T15:54:51.656804Z",
     "iopub.status.busy": "2025-04-15T15:54:51.656456Z",
     "iopub.status.idle": "2025-04-15T15:54:51.700852Z",
     "shell.execute_reply": "2025-04-15T15:54:51.699830Z"
    },
    "papermill": {
     "duration": 0.050026,
     "end_time": "2025-04-15T15:54:51.702630",
     "exception": false,
     "start_time": "2025-04-15T15:54:51.652604",
     "status": "completed"
    },
    "tags": []
   },
   "outputs": [],
   "source": [
    "# Handle missing values\n",
    "df.fillna(0, inplace=True)"
   ]
  },
  {
   "cell_type": "code",
   "execution_count": 5,
   "id": "0592a0a2",
   "metadata": {
    "execution": {
     "iopub.execute_input": "2025-04-15T15:54:51.709984Z",
     "iopub.status.busy": "2025-04-15T15:54:51.709651Z",
     "iopub.status.idle": "2025-04-15T15:54:51.718902Z",
     "shell.execute_reply": "2025-04-15T15:54:51.718000Z"
    },
    "papermill": {
     "duration": 0.014393,
     "end_time": "2025-04-15T15:54:51.720352",
     "exception": false,
     "start_time": "2025-04-15T15:54:51.705959",
     "status": "completed"
    },
    "tags": []
   },
   "outputs": [],
   "source": [
    "# Encode labels\n",
    "label_encoder = LabelEncoder()\n",
    "df['label'] = label_encoder.fit_transform(df['label'])"
   ]
  },
  {
   "cell_type": "code",
   "execution_count": 6,
   "id": "20691abd",
   "metadata": {
    "execution": {
     "iopub.execute_input": "2025-04-15T15:54:51.727506Z",
     "iopub.status.busy": "2025-04-15T15:54:51.727228Z",
     "iopub.status.idle": "2025-04-15T15:54:51.826787Z",
     "shell.execute_reply": "2025-04-15T15:54:51.825889Z"
    },
    "papermill": {
     "duration": 0.104948,
     "end_time": "2025-04-15T15:54:51.828554",
     "exception": false,
     "start_time": "2025-04-15T15:54:51.723606",
     "status": "completed"
    },
    "tags": []
   },
   "outputs": [],
   "source": [
    "# Select features and target\n",
    "X = df.drop(columns=['label'])\n",
    "y = df['label']"
   ]
  },
  {
   "cell_type": "code",
   "execution_count": 7,
   "id": "9ccf66d5",
   "metadata": {
    "execution": {
     "iopub.execute_input": "2025-04-15T15:54:51.835914Z",
     "iopub.status.busy": "2025-04-15T15:54:51.835598Z",
     "iopub.status.idle": "2025-04-15T15:54:52.069885Z",
     "shell.execute_reply": "2025-04-15T15:54:52.068966Z"
    },
    "papermill": {
     "duration": 0.239926,
     "end_time": "2025-04-15T15:54:52.071843",
     "exception": false,
     "start_time": "2025-04-15T15:54:51.831917",
     "status": "completed"
    },
    "tags": []
   },
   "outputs": [],
   "source": [
    "# Split data\n",
    "X_train, X_test, y_train, y_test = train_test_split(X, y, test_size=0.2, random_state=42)"
   ]
  },
  {
   "cell_type": "code",
   "execution_count": 8,
   "id": "39f129e3",
   "metadata": {
    "execution": {
     "iopub.execute_input": "2025-04-15T15:54:52.079400Z",
     "iopub.status.busy": "2025-04-15T15:54:52.079105Z",
     "iopub.status.idle": "2025-04-15T15:54:52.443289Z",
     "shell.execute_reply": "2025-04-15T15:54:52.442157Z"
    },
    "papermill": {
     "duration": 0.369937,
     "end_time": "2025-04-15T15:54:52.445122",
     "exception": false,
     "start_time": "2025-04-15T15:54:52.075185",
     "status": "completed"
    },
    "tags": []
   },
   "outputs": [],
   "source": [
    "# Scale features\n",
    "scaler = StandardScaler()\n",
    "X_train = scaler.fit_transform(X_train)\n",
    "X_test = scaler.transform(X_test)"
   ]
  },
  {
   "cell_type": "code",
   "execution_count": 9,
   "id": "e51d048e",
   "metadata": {
    "execution": {
     "iopub.execute_input": "2025-04-15T15:54:52.452686Z",
     "iopub.status.busy": "2025-04-15T15:54:52.452387Z",
     "iopub.status.idle": "2025-04-15T15:54:52.456919Z",
     "shell.execute_reply": "2025-04-15T15:54:52.456015Z"
    },
    "papermill": {
     "duration": 0.009755,
     "end_time": "2025-04-15T15:54:52.458292",
     "exception": false,
     "start_time": "2025-04-15T15:54:52.448537",
     "status": "completed"
    },
    "tags": []
   },
   "outputs": [],
   "source": [
    "# Define objective function for Optuna tuning\n",
    "def objective(trial):\n",
    "    model = create_model(trial)\n",
    "    model.fit(X_train, y_train, epochs=10, batch_size=trial.suggest_int(\"batch_size\", 16, 64), verbose=0, validation_split=0.2)\n",
    "    _, accuracy = model.evaluate(X_test, y_test, verbose=0)\n",
    "    return accuracy"
   ]
  },
  {
   "cell_type": "code",
   "execution_count": 10,
   "id": "7ffd9f7b",
   "metadata": {
    "execution": {
     "iopub.execute_input": "2025-04-15T15:54:52.465488Z",
     "iopub.status.busy": "2025-04-15T15:54:52.465188Z",
     "iopub.status.idle": "2025-04-15T16:03:53.057439Z",
     "shell.execute_reply": "2025-04-15T16:03:53.056443Z"
    },
    "papermill": {
     "duration": 540.601663,
     "end_time": "2025-04-15T16:03:53.063096",
     "exception": false,
     "start_time": "2025-04-15T15:54:52.461433",
     "status": "completed"
    },
    "tags": []
   },
   "outputs": [
    {
     "name": "stderr",
     "output_type": "stream",
     "text": [
      "[I 2025-04-15 15:54:52,466] A new study created in memory with name: no-name-cfef7be9-4adf-4259-b22b-29c22c5cbc96\n",
      "/usr/local/lib/python3.10/dist-packages/keras/src/layers/core/dense.py:87: UserWarning: Do not pass an `input_shape`/`input_dim` argument to a layer. When using Sequential models, prefer using an `Input(shape)` object as the first layer in the model instead.\n",
      "  super().__init__(activity_regularizer=activity_regularizer, **kwargs)\n",
      "[I 2025-04-15 15:55:32,900] Trial 0 finished with value: 0.9991353750228882 and parameters: {'units1': 248, 'dropout1': 0.12546153311699434, 'units2': 114, 'dropout2': 0.37720604213073583, 'batch_size': 25}. Best is trial 0 with value: 0.9991353750228882.\n",
      "[I 2025-04-15 15:56:14,500] Trial 1 finished with value: 0.9955328106880188 and parameters: {'units1': 148, 'dropout1': 0.39965540865705507, 'units2': 95, 'dropout2': 0.44581010724104464, 'batch_size': 19}. Best is trial 0 with value: 0.9991353750228882.\n",
      "[I 2025-04-15 15:56:55,268] Trial 2 finished with value: 0.9992794990539551 and parameters: {'units1': 186, 'dropout1': 0.15605252236650427, 'units2': 124, 'dropout2': 0.29691424871148053, 'batch_size': 21}. Best is trial 2 with value: 0.9992794990539551.\n",
      "[I 2025-04-15 15:57:24,431] Trial 3 finished with value: 0.9991353750228882 and parameters: {'units1': 80, 'dropout1': 0.3911795894398823, 'units2': 110, 'dropout2': 0.4356265951526944, 'batch_size': 26}. Best is trial 2 with value: 0.9992794990539551.\n",
      "[I 2025-04-15 15:57:51,238] Trial 4 finished with value: 0.9990633130073547 and parameters: {'units1': 151, 'dropout1': 0.3384625447636437, 'units2': 65, 'dropout2': 0.10468211224085877, 'batch_size': 31}. Best is trial 2 with value: 0.9992794990539551.\n",
      "[I 2025-04-15 15:58:23,910] Trial 5 finished with value: 0.9992794990539551 and parameters: {'units1': 109, 'dropout1': 0.20149606264738673, 'units2': 50, 'dropout2': 0.16690652246611948, 'batch_size': 23}. Best is trial 2 with value: 0.9992794990539551.\n",
      "[I 2025-04-15 15:58:42,871] Trial 6 finished with value: 0.9992794990539551 and parameters: {'units1': 146, 'dropout1': 0.18626059449456425, 'units2': 65, 'dropout2': 0.251960915075189, 'batch_size': 51}. Best is trial 2 with value: 0.9992794990539551.\n",
      "[I 2025-04-15 15:59:00,929] Trial 7 finished with value: 0.9991353750228882 and parameters: {'units1': 201, 'dropout1': 0.12090228586180025, 'units2': 67, 'dropout2': 0.48093745224399953, 'batch_size': 60}. Best is trial 2 with value: 0.9992794990539551.\n",
      "[I 2025-04-15 15:59:45,491] Trial 8 finished with value: 0.9990633130073547 and parameters: {'units1': 195, 'dropout1': 0.4562638134475875, 'units2': 108, 'dropout2': 0.3968968272896599, 'batch_size': 18}. Best is trial 2 with value: 0.9992794990539551.\n",
      "[I 2025-04-15 16:00:05,054] Trial 9 finished with value: 0.9992074370384216 and parameters: {'units1': 130, 'dropout1': 0.3780072990500295, 'units2': 57, 'dropout2': 0.11339549560730613, 'batch_size': 48}. Best is trial 2 with value: 0.9992794990539551.\n",
      "[I 2025-04-15 16:00:32,883] Trial 10 finished with value: 0.9992074370384216 and parameters: {'units1': 203, 'dropout1': 0.25927442403377843, 'units2': 128, 'dropout2': 0.3014194420402623, 'batch_size': 36}. Best is trial 2 with value: 0.9992794990539551.\n",
      "[I 2025-04-15 16:00:53,449] Trial 11 finished with value: 0.9994235634803772 and parameters: {'units1': 99, 'dropout1': 0.23428824155929454, 'units2': 33, 'dropout2': 0.2098823186265262, 'batch_size': 41}. Best is trial 11 with value: 0.9994235634803772.\n",
      "[I 2025-04-15 16:01:12,477] Trial 12 finished with value: 0.9989192485809326 and parameters: {'units1': 79, 'dropout1': 0.25890976097083485, 'units2': 33, 'dropout2': 0.2522393510401807, 'batch_size': 43}. Best is trial 11 with value: 0.9994235634803772.\n",
      "[I 2025-04-15 16:01:38,332] Trial 13 finished with value: 0.9990633130073547 and parameters: {'units1': 180, 'dropout1': 0.18944268267014605, 'units2': 83, 'dropout2': 0.3163003858722362, 'batch_size': 37}. Best is trial 11 with value: 0.9994235634803772.\n",
      "[I 2025-04-15 16:01:54,691] Trial 14 finished with value: 0.9992794990539551 and parameters: {'units1': 112, 'dropout1': 0.26523475617800113, 'units2': 32, 'dropout2': 0.21625520943812881, 'batch_size': 57}. Best is trial 11 with value: 0.9994235634803772.\n",
      "[I 2025-04-15 16:02:19,297] Trial 15 finished with value: 0.9996397495269775 and parameters: {'units1': 230, 'dropout1': 0.1588114433312203, 'units2': 89, 'dropout2': 0.19698850674836016, 'batch_size': 43}. Best is trial 15 with value: 0.9996397495269775.\n",
      "[I 2025-04-15 16:02:44,892] Trial 16 finished with value: 0.9991353750228882 and parameters: {'units1': 250, 'dropout1': 0.21071724337285724, 'units2': 86, 'dropout2': 0.18447329652757538, 'batch_size': 44}. Best is trial 15 with value: 0.9996397495269775.\n",
      "[I 2025-04-15 16:03:06,668] Trial 17 finished with value: 0.9992794990539551 and parameters: {'units1': 228, 'dropout1': 0.3216067697315624, 'units2': 96, 'dropout2': 0.15753153969510597, 'batch_size': 53}. Best is trial 15 with value: 0.9996397495269775.\n",
      "[I 2025-04-15 16:03:22,113] Trial 18 finished with value: 0.9929389953613281 and parameters: {'units1': 100, 'dropout1': 0.230906476461741, 'units2': 50, 'dropout2': 0.22138347005974013, 'batch_size': 64}. Best is trial 15 with value: 0.9996397495269775.\n",
      "[I 2025-04-15 16:03:53,053] Trial 19 finished with value: 0.9951725602149963 and parameters: {'units1': 223, 'dropout1': 0.10502803175867073, 'units2': 77, 'dropout2': 0.14261590057596235, 'batch_size': 32}. Best is trial 15 with value: 0.9996397495269775.\n"
     ]
    }
   ],
   "source": [
    "# Optimize hyperparameters\n",
    "study = optuna.create_study(direction='maximize')\n",
    "study.optimize(objective, n_trials=20)"
   ]
  },
  {
   "cell_type": "code",
   "execution_count": 11,
   "id": "3a68c6b3",
   "metadata": {
    "execution": {
     "iopub.execute_input": "2025-04-15T16:03:53.074295Z",
     "iopub.status.busy": "2025-04-15T16:03:53.073939Z",
     "iopub.status.idle": "2025-04-15T16:05:55.815087Z",
     "shell.execute_reply": "2025-04-15T16:05:55.814102Z"
    },
    "papermill": {
     "duration": 122.74877,
     "end_time": "2025-04-15T16:05:55.816701",
     "exception": false,
     "start_time": "2025-04-15T16:03:53.067931",
     "status": "completed"
    },
    "tags": []
   },
   "outputs": [
    {
     "name": "stdout",
     "output_type": "stream",
     "text": [
      "Epoch 1/50\n",
      "\u001b[1m1033/1033\u001b[0m \u001b[32m━━━━━━━━━━━━━━━━━━━━\u001b[0m\u001b[37m\u001b[0m \u001b[1m4s\u001b[0m 2ms/step - accuracy: 0.9572 - loss: 0.1235 - val_accuracy: 0.9957 - val_loss: 0.0138\n",
      "Epoch 2/50\n",
      "\u001b[1m1033/1033\u001b[0m \u001b[32m━━━━━━━━━━━━━━━━━━━━\u001b[0m\u001b[37m\u001b[0m \u001b[1m2s\u001b[0m 2ms/step - accuracy: 0.9925 - loss: 0.0242 - val_accuracy: 0.9937 - val_loss: 0.0131\n",
      "Epoch 3/50\n",
      "\u001b[1m1033/1033\u001b[0m \u001b[32m━━━━━━━━━━━━━━━━━━━━\u001b[0m\u001b[37m\u001b[0m \u001b[1m2s\u001b[0m 2ms/step - accuracy: 0.9961 - loss: 0.0150 - val_accuracy: 0.9981 - val_loss: 0.0136\n",
      "Epoch 4/50\n",
      "\u001b[1m1033/1033\u001b[0m \u001b[32m━━━━━━━━━━━━━━━━━━━━\u001b[0m\u001b[37m\u001b[0m \u001b[1m2s\u001b[0m 2ms/step - accuracy: 0.9974 - loss: 0.0100 - val_accuracy: 0.9977 - val_loss: 0.0248\n",
      "Epoch 5/50\n",
      "\u001b[1m1033/1033\u001b[0m \u001b[32m━━━━━━━━━━━━━━━━━━━━\u001b[0m\u001b[37m\u001b[0m \u001b[1m2s\u001b[0m 2ms/step - accuracy: 0.9975 - loss: 0.0112 - val_accuracy: 0.9992 - val_loss: 0.0063\n",
      "Epoch 6/50\n",
      "\u001b[1m1033/1033\u001b[0m \u001b[32m━━━━━━━━━━━━━━━━━━━━\u001b[0m\u001b[37m\u001b[0m \u001b[1m2s\u001b[0m 2ms/step - accuracy: 0.9977 - loss: 0.0082 - val_accuracy: 0.9994 - val_loss: 0.0063\n",
      "Epoch 7/50\n",
      "\u001b[1m1033/1033\u001b[0m \u001b[32m━━━━━━━━━━━━━━━━━━━━\u001b[0m\u001b[37m\u001b[0m \u001b[1m3s\u001b[0m 3ms/step - accuracy: 0.9985 - loss: 0.0063 - val_accuracy: 0.9986 - val_loss: 0.0139\n",
      "Epoch 8/50\n",
      "\u001b[1m1033/1033\u001b[0m \u001b[32m━━━━━━━━━━━━━━━━━━━━\u001b[0m\u001b[37m\u001b[0m \u001b[1m2s\u001b[0m 2ms/step - accuracy: 0.9977 - loss: 0.0079 - val_accuracy: 0.9993 - val_loss: 0.0076\n",
      "Epoch 9/50\n",
      "\u001b[1m1033/1033\u001b[0m \u001b[32m━━━━━━━━━━━━━━━━━━━━\u001b[0m\u001b[37m\u001b[0m \u001b[1m2s\u001b[0m 2ms/step - accuracy: 0.9985 - loss: 0.0063 - val_accuracy: 0.9986 - val_loss: 0.0161\n",
      "Epoch 10/50\n",
      "\u001b[1m1033/1033\u001b[0m \u001b[32m━━━━━━━━━━━━━━━━━━━━\u001b[0m\u001b[37m\u001b[0m \u001b[1m2s\u001b[0m 2ms/step - accuracy: 0.9984 - loss: 0.0100 - val_accuracy: 0.9994 - val_loss: 0.0080\n",
      "Epoch 11/50\n",
      "\u001b[1m1033/1033\u001b[0m \u001b[32m━━━━━━━━━━━━━━━━━━━━\u001b[0m\u001b[37m\u001b[0m \u001b[1m2s\u001b[0m 2ms/step - accuracy: 0.9981 - loss: 0.0075 - val_accuracy: 0.9993 - val_loss: 0.0075\n",
      "Epoch 12/50\n",
      "\u001b[1m1033/1033\u001b[0m \u001b[32m━━━━━━━━━━━━━━━━━━━━\u001b[0m\u001b[37m\u001b[0m \u001b[1m2s\u001b[0m 2ms/step - accuracy: 0.9979 - loss: 0.0100 - val_accuracy: 0.9990 - val_loss: 0.0110\n",
      "Epoch 13/50\n",
      "\u001b[1m1033/1033\u001b[0m \u001b[32m━━━━━━━━━━━━━━━━━━━━\u001b[0m\u001b[37m\u001b[0m \u001b[1m2s\u001b[0m 2ms/step - accuracy: 0.9986 - loss: 0.0063 - val_accuracy: 0.9970 - val_loss: 0.0114\n",
      "Epoch 14/50\n",
      "\u001b[1m1033/1033\u001b[0m \u001b[32m━━━━━━━━━━━━━━━━━━━━\u001b[0m\u001b[37m\u001b[0m \u001b[1m2s\u001b[0m 2ms/step - accuracy: 0.9988 - loss: 0.0053 - val_accuracy: 0.9992 - val_loss: 0.0081\n",
      "Epoch 15/50\n",
      "\u001b[1m1033/1033\u001b[0m \u001b[32m━━━━━━━━━━━━━━━━━━━━\u001b[0m\u001b[37m\u001b[0m \u001b[1m2s\u001b[0m 2ms/step - accuracy: 0.9988 - loss: 0.0047 - val_accuracy: 0.9992 - val_loss: 0.0085\n",
      "Epoch 16/50\n",
      "\u001b[1m1033/1033\u001b[0m \u001b[32m━━━━━━━━━━━━━━━━━━━━\u001b[0m\u001b[37m\u001b[0m \u001b[1m2s\u001b[0m 2ms/step - accuracy: 0.9986 - loss: 0.0089 - val_accuracy: 0.9993 - val_loss: 0.0101\n",
      "Epoch 17/50\n",
      "\u001b[1m1033/1033\u001b[0m \u001b[32m━━━━━━━━━━━━━━━━━━━━\u001b[0m\u001b[37m\u001b[0m \u001b[1m2s\u001b[0m 2ms/step - accuracy: 0.9990 - loss: 0.0037 - val_accuracy: 0.9995 - val_loss: 0.0091\n",
      "Epoch 18/50\n",
      "\u001b[1m1033/1033\u001b[0m \u001b[32m━━━━━━━━━━━━━━━━━━━━\u001b[0m\u001b[37m\u001b[0m \u001b[1m2s\u001b[0m 2ms/step - accuracy: 0.9983 - loss: 0.0109 - val_accuracy: 0.9993 - val_loss: 0.0200\n",
      "Epoch 19/50\n",
      "\u001b[1m1033/1033\u001b[0m \u001b[32m━━━━━━━━━━━━━━━━━━━━\u001b[0m\u001b[37m\u001b[0m \u001b[1m2s\u001b[0m 2ms/step - accuracy: 0.9990 - loss: 0.0038 - val_accuracy: 0.9994 - val_loss: 0.0186\n",
      "Epoch 20/50\n",
      "\u001b[1m1033/1033\u001b[0m \u001b[32m━━━━━━━━━━━━━━━━━━━━\u001b[0m\u001b[37m\u001b[0m \u001b[1m3s\u001b[0m 3ms/step - accuracy: 0.9983 - loss: 0.0076 - val_accuracy: 0.9993 - val_loss: 0.0175\n",
      "Epoch 21/50\n",
      "\u001b[1m1033/1033\u001b[0m \u001b[32m━━━━━━━━━━━━━━━━━━━━\u001b[0m\u001b[37m\u001b[0m \u001b[1m2s\u001b[0m 2ms/step - accuracy: 0.9993 - loss: 0.0040 - val_accuracy: 0.9986 - val_loss: 0.0185\n",
      "Epoch 22/50\n",
      "\u001b[1m1033/1033\u001b[0m \u001b[32m━━━━━━━━━━━━━━━━━━━━\u001b[0m\u001b[37m\u001b[0m \u001b[1m2s\u001b[0m 2ms/step - accuracy: 0.9991 - loss: 0.0039 - val_accuracy: 0.9943 - val_loss: 0.0244\n",
      "Epoch 23/50\n",
      "\u001b[1m1033/1033\u001b[0m \u001b[32m━━━━━━━━━━━━━━━━━━━━\u001b[0m\u001b[37m\u001b[0m \u001b[1m2s\u001b[0m 2ms/step - accuracy: 0.9991 - loss: 0.0036 - val_accuracy: 0.9992 - val_loss: 0.0174\n",
      "Epoch 24/50\n",
      "\u001b[1m1033/1033\u001b[0m \u001b[32m━━━━━━━━━━━━━━━━━━━━\u001b[0m\u001b[37m\u001b[0m \u001b[1m2s\u001b[0m 2ms/step - accuracy: 0.9988 - loss: 0.0051 - val_accuracy: 0.9994 - val_loss: 0.0161\n",
      "Epoch 25/50\n",
      "\u001b[1m1033/1033\u001b[0m \u001b[32m━━━━━━━━━━━━━━━━━━━━\u001b[0m\u001b[37m\u001b[0m \u001b[1m2s\u001b[0m 2ms/step - accuracy: 0.9990 - loss: 0.0046 - val_accuracy: 0.9994 - val_loss: 0.0182\n",
      "Epoch 26/50\n",
      "\u001b[1m1033/1033\u001b[0m \u001b[32m━━━━━━━━━━━━━━━━━━━━\u001b[0m\u001b[37m\u001b[0m \u001b[1m2s\u001b[0m 2ms/step - accuracy: 0.9987 - loss: 0.0053 - val_accuracy: 0.9994 - val_loss: 0.0180\n",
      "Epoch 27/50\n",
      "\u001b[1m1033/1033\u001b[0m \u001b[32m━━━━━━━━━━━━━━━━━━━━\u001b[0m\u001b[37m\u001b[0m \u001b[1m2s\u001b[0m 2ms/step - accuracy: 0.9991 - loss: 0.0044 - val_accuracy: 0.9994 - val_loss: 0.0131\n",
      "Epoch 28/50\n",
      "\u001b[1m1033/1033\u001b[0m \u001b[32m━━━━━━━━━━━━━━━━━━━━\u001b[0m\u001b[37m\u001b[0m \u001b[1m2s\u001b[0m 2ms/step - accuracy: 0.9994 - loss: 0.0022 - val_accuracy: 0.9994 - val_loss: 0.0159\n",
      "Epoch 29/50\n",
      "\u001b[1m1033/1033\u001b[0m \u001b[32m━━━━━━━━━━━━━━━━━━━━\u001b[0m\u001b[37m\u001b[0m \u001b[1m2s\u001b[0m 2ms/step - accuracy: 0.9993 - loss: 0.0036 - val_accuracy: 0.9994 - val_loss: 0.0165\n",
      "Epoch 30/50\n",
      "\u001b[1m1033/1033\u001b[0m \u001b[32m━━━━━━━━━━━━━━━━━━━━\u001b[0m\u001b[37m\u001b[0m \u001b[1m2s\u001b[0m 2ms/step - accuracy: 0.9993 - loss: 0.0034 - val_accuracy: 0.9994 - val_loss: 0.0162\n",
      "Epoch 31/50\n",
      "\u001b[1m1033/1033\u001b[0m \u001b[32m━━━━━━━━━━━━━━━━━━━━\u001b[0m\u001b[37m\u001b[0m \u001b[1m2s\u001b[0m 2ms/step - accuracy: 0.9987 - loss: 0.0048 - val_accuracy: 0.9990 - val_loss: 0.0188\n",
      "Epoch 32/50\n",
      "\u001b[1m1033/1033\u001b[0m \u001b[32m━━━━━━━━━━━━━━━━━━━━\u001b[0m\u001b[37m\u001b[0m \u001b[1m2s\u001b[0m 2ms/step - accuracy: 0.9977 - loss: 0.0110 - val_accuracy: 0.9993 - val_loss: 0.0269\n",
      "Epoch 33/50\n",
      "\u001b[1m1033/1033\u001b[0m \u001b[32m━━━━━━━━━━━━━━━━━━━━\u001b[0m\u001b[37m\u001b[0m \u001b[1m3s\u001b[0m 2ms/step - accuracy: 0.9985 - loss: 0.0077 - val_accuracy: 0.9993 - val_loss: 0.0157\n",
      "Epoch 34/50\n",
      "\u001b[1m1033/1033\u001b[0m \u001b[32m━━━━━━━━━━━━━━━━━━━━\u001b[0m\u001b[37m\u001b[0m \u001b[1m2s\u001b[0m 2ms/step - accuracy: 0.9989 - loss: 0.0041 - val_accuracy: 0.9995 - val_loss: 0.0182\n",
      "Epoch 35/50\n",
      "\u001b[1m1033/1033\u001b[0m \u001b[32m━━━━━━━━━━━━━━━━━━━━\u001b[0m\u001b[37m\u001b[0m \u001b[1m2s\u001b[0m 2ms/step - accuracy: 0.9986 - loss: 0.0047 - val_accuracy: 0.9995 - val_loss: 0.0181\n",
      "Epoch 36/50\n",
      "\u001b[1m1033/1033\u001b[0m \u001b[32m━━━━━━━━━━━━━━━━━━━━\u001b[0m\u001b[37m\u001b[0m \u001b[1m2s\u001b[0m 2ms/step - accuracy: 0.9990 - loss: 0.0039 - val_accuracy: 0.9994 - val_loss: 0.0199\n",
      "Epoch 37/50\n",
      "\u001b[1m1033/1033\u001b[0m \u001b[32m━━━━━━━━━━━━━━━━━━━━\u001b[0m\u001b[37m\u001b[0m \u001b[1m2s\u001b[0m 2ms/step - accuracy: 0.9990 - loss: 0.0040 - val_accuracy: 0.9994 - val_loss: 0.0230\n",
      "Epoch 38/50\n",
      "\u001b[1m1033/1033\u001b[0m \u001b[32m━━━━━━━━━━━━━━━━━━━━\u001b[0m\u001b[37m\u001b[0m \u001b[1m2s\u001b[0m 2ms/step - accuracy: 0.9993 - loss: 0.0026 - val_accuracy: 0.9990 - val_loss: 0.0230\n",
      "Epoch 39/50\n",
      "\u001b[1m1033/1033\u001b[0m \u001b[32m━━━━━━━━━━━━━━━━━━━━\u001b[0m\u001b[37m\u001b[0m \u001b[1m2s\u001b[0m 2ms/step - accuracy: 0.9990 - loss: 0.0045 - val_accuracy: 0.9995 - val_loss: 0.0165\n",
      "Epoch 40/50\n",
      "\u001b[1m1033/1033\u001b[0m \u001b[32m━━━━━━━━━━━━━━━━━━━━\u001b[0m\u001b[37m\u001b[0m \u001b[1m2s\u001b[0m 2ms/step - accuracy: 0.9989 - loss: 0.0042 - val_accuracy: 0.9995 - val_loss: 0.0169\n",
      "Epoch 41/50\n",
      "\u001b[1m1033/1033\u001b[0m \u001b[32m━━━━━━━━━━━━━━━━━━━━\u001b[0m\u001b[37m\u001b[0m \u001b[1m2s\u001b[0m 2ms/step - accuracy: 0.9995 - loss: 0.0026 - val_accuracy: 0.9993 - val_loss: 0.0197\n",
      "Epoch 42/50\n",
      "\u001b[1m1033/1033\u001b[0m \u001b[32m━━━━━━━━━━━━━━━━━━━━\u001b[0m\u001b[37m\u001b[0m \u001b[1m2s\u001b[0m 2ms/step - accuracy: 0.9986 - loss: 0.0063 - val_accuracy: 0.9992 - val_loss: 0.0185\n",
      "Epoch 43/50\n",
      "\u001b[1m1033/1033\u001b[0m \u001b[32m━━━━━━━━━━━━━━━━━━━━\u001b[0m\u001b[37m\u001b[0m \u001b[1m2s\u001b[0m 2ms/step - accuracy: 0.9995 - loss: 0.0023 - val_accuracy: 0.9992 - val_loss: 0.0306\n",
      "Epoch 44/50\n",
      "\u001b[1m1033/1033\u001b[0m \u001b[32m━━━━━━━━━━━━━━━━━━━━\u001b[0m\u001b[37m\u001b[0m \u001b[1m2s\u001b[0m 2ms/step - accuracy: 0.9989 - loss: 0.0039 - val_accuracy: 0.9994 - val_loss: 0.0271\n",
      "Epoch 45/50\n",
      "\u001b[1m1033/1033\u001b[0m \u001b[32m━━━━━━━━━━━━━━━━━━━━\u001b[0m\u001b[37m\u001b[0m \u001b[1m2s\u001b[0m 2ms/step - accuracy: 0.9989 - loss: 0.0053 - val_accuracy: 0.9995 - val_loss: 0.0223\n",
      "Epoch 46/50\n",
      "\u001b[1m1033/1033\u001b[0m \u001b[32m━━━━━━━━━━━━━━━━━━━━\u001b[0m\u001b[37m\u001b[0m \u001b[1m3s\u001b[0m 2ms/step - accuracy: 0.9989 - loss: 0.0043 - val_accuracy: 0.9995 - val_loss: 0.0268\n",
      "Epoch 47/50\n",
      "\u001b[1m1033/1033\u001b[0m \u001b[32m━━━━━━━━━━━━━━━━━━━━\u001b[0m\u001b[37m\u001b[0m \u001b[1m3s\u001b[0m 3ms/step - accuracy: 0.9984 - loss: 0.0059 - val_accuracy: 0.9990 - val_loss: 0.0266\n",
      "Epoch 48/50\n",
      "\u001b[1m1033/1033\u001b[0m \u001b[32m━━━━━━━━━━━━━━━━━━━━\u001b[0m\u001b[37m\u001b[0m \u001b[1m2s\u001b[0m 2ms/step - accuracy: 0.9986 - loss: 0.0054 - val_accuracy: 0.9991 - val_loss: 0.0260\n",
      "Epoch 49/50\n",
      "\u001b[1m1033/1033\u001b[0m \u001b[32m━━━━━━━━━━━━━━━━━━━━\u001b[0m\u001b[37m\u001b[0m \u001b[1m2s\u001b[0m 2ms/step - accuracy: 0.9991 - loss: 0.0038 - val_accuracy: 0.9993 - val_loss: 0.0254\n",
      "Epoch 50/50\n",
      "\u001b[1m1033/1033\u001b[0m \u001b[32m━━━━━━━━━━━━━━━━━━━━\u001b[0m\u001b[37m\u001b[0m \u001b[1m2s\u001b[0m 2ms/step - accuracy: 0.9987 - loss: 0.0044 - val_accuracy: 0.9990 - val_loss: 0.0276\n"
     ]
    },
    {
     "data": {
      "text/plain": [
       "<keras.src.callbacks.history.History at 0x7bb708b278e0>"
      ]
     },
     "execution_count": 11,
     "metadata": {},
     "output_type": "execute_result"
    }
   ],
   "source": [
    "# Train final model with best parameters\n",
    "best_params = study.best_params\n",
    "final_model = create_model(optuna.trial.FixedTrial(best_params))\n",
    "final_model.fit(X_train, y_train, epochs=50, batch_size=best_params['batch_size'], verbose=1, validation_split=0.2)"
   ]
  },
  {
   "cell_type": "code",
   "execution_count": 12,
   "id": "fc6517c8",
   "metadata": {
    "execution": {
     "iopub.execute_input": "2025-04-15T16:05:56.124410Z",
     "iopub.status.busy": "2025-04-15T16:05:56.124043Z",
     "iopub.status.idle": "2025-04-15T16:05:56.708735Z",
     "shell.execute_reply": "2025-04-15T16:05:56.707862Z"
    },
    "papermill": {
     "duration": 0.769219,
     "end_time": "2025-04-15T16:05:56.710240",
     "exception": false,
     "start_time": "2025-04-15T16:05:55.941021",
     "status": "completed"
    },
    "tags": []
   },
   "outputs": [
    {
     "name": "stdout",
     "output_type": "stream",
     "text": [
      "\u001b[1m434/434\u001b[0m \u001b[32m━━━━━━━━━━━━━━━━━━━━\u001b[0m\u001b[37m\u001b[0m \u001b[1m1s\u001b[0m 1ms/step - accuracy: 0.9997 - loss: 0.0039\n",
      "Final Model Accuracy: 1.00\n"
     ]
    }
   ],
   "source": [
    "# Evaluate final model\n",
    "loss, accuracy = final_model.evaluate(X_test, y_test)\n",
    "print(f\"Final Model Accuracy: {accuracy:.2f}\")"
   ]
  },
  {
   "cell_type": "code",
   "execution_count": 13,
   "id": "49ff773e",
   "metadata": {
    "execution": {
     "iopub.execute_input": "2025-04-15T16:05:56.963623Z",
     "iopub.status.busy": "2025-04-15T16:05:56.963292Z",
     "iopub.status.idle": "2025-04-15T16:05:56.999337Z",
     "shell.execute_reply": "2025-04-15T16:05:56.998309Z"
    },
    "papermill": {
     "duration": 0.164112,
     "end_time": "2025-04-15T16:05:57.001509",
     "exception": false,
     "start_time": "2025-04-15T16:05:56.837397",
     "status": "completed"
    },
    "tags": []
   },
   "outputs": [],
   "source": [
    "# Save model\n",
    "final_model.save(\"models/neural_network_model.h5\")"
   ]
  }
 ],
 "metadata": {
  "kaggle": {
   "accelerator": "none",
   "dataSources": [
    {
     "datasetId": 6541270,
     "sourceId": 10570989,
     "sourceType": "datasetVersion"
    }
   ],
   "dockerImageVersionId": 30918,
   "isGpuEnabled": false,
   "isInternetEnabled": false,
   "language": "python",
   "sourceType": "notebook"
  },
  "kernelspec": {
   "display_name": "Python 3",
   "language": "python",
   "name": "python3"
  },
  "language_info": {
   "codemirror_mode": {
    "name": "ipython",
    "version": 3
   },
   "file_extension": ".py",
   "mimetype": "text/x-python",
   "name": "python",
   "nbconvert_exporter": "python",
   "pygments_lexer": "ipython3",
   "version": "3.10.12"
  },
  "papermill": {
   "default_parameters": {},
   "duration": 692.259675,
   "end_time": "2025-04-15T16:06:00.003610",
   "environment_variables": {},
   "exception": null,
   "input_path": "__notebook__.ipynb",
   "output_path": "__notebook__.ipynb",
   "parameters": {},
   "start_time": "2025-04-15T15:54:27.743935",
   "version": "2.6.0"
  }
 },
 "nbformat": 4,
 "nbformat_minor": 5
}
